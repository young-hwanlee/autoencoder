{
  "nbformat": 4,
  "nbformat_minor": 0,
  "metadata": {
    "colab": {
      "name": "autoencoder_Keras.ipynb",
      "provenance": [],
      "authorship_tag": "ABX9TyOgc+Mck2HiGbIDy6Pcv1VB",
      "include_colab_link": true
    },
    "kernelspec": {
      "name": "python3",
      "display_name": "Python 3"
    }
  },
  "cells": [
    {
      "cell_type": "markdown",
      "metadata": {
        "id": "view-in-github",
        "colab_type": "text"
      },
      "source": [
        "<a href=\"https://colab.research.google.com/github/young-hwanlee/autoencoder/blob/master/autoencoder_Keras.ipynb\" target=\"_parent\"><img src=\"https://colab.research.google.com/assets/colab-badge.svg\" alt=\"Open In Colab\"/></a>"
      ]
    },
    {
      "cell_type": "code",
      "metadata": {
        "colab": {
          "base_uri": "https://localhost:8080/"
        },
        "id": "IUkMeJ7H5-Ar",
        "outputId": "18c28795-8bf9-4d9c-94c6-0be74c154b80"
      },
      "source": [
        "!git clone https://github.com/young-hwanlee/autoencoder.git"
      ],
      "execution_count": 1,
      "outputs": [
        {
          "output_type": "stream",
          "text": [
            "Cloning into 'autoencoder'...\n",
            "remote: Enumerating objects: 74, done.\u001b[K\n",
            "remote: Counting objects: 100% (74/74), done.\u001b[K\n",
            "remote: Compressing objects: 100% (71/71), done.\u001b[K\n",
            "remote: Total 74 (delta 21), reused 0 (delta 0), pack-reused 0\u001b[K\n",
            "Unpacking objects: 100% (74/74), done.\n"
          ],
          "name": "stdout"
        }
      ]
    },
    {
      "cell_type": "code",
      "metadata": {
        "colab": {
          "base_uri": "https://localhost:8080/"
        },
        "id": "q5Q3l8n86iT0",
        "outputId": "2e742e80-4070-4324-8dcc-b5b1ba5b1ee9"
      },
      "source": [
        "ls -ltr"
      ],
      "execution_count": 2,
      "outputs": [
        {
          "output_type": "stream",
          "text": [
            "total 8\n",
            "drwxr-xr-x 1 root root 4096 Mar  5 14:37 \u001b[0m\u001b[01;34msample_data\u001b[0m/\n",
            "drwxr-xr-x 3 root root 4096 Mar 16 07:25 \u001b[01;34mautoencoder\u001b[0m/\n"
          ],
          "name": "stdout"
        }
      ]
    },
    {
      "cell_type": "code",
      "metadata": {
        "id": "BNZtNW1j6ivb"
      },
      "source": [
        "\r\n",
        "#%%\r\n",
        "import os\r\n",
        "os.environ['KMP_DUPLICATE_LIB_OK'] = 'True'\r\n",
        "\r\n",
        "## Import libraries and modules\r\n",
        "import matplotlib.pyplot as plt\r\n",
        "import numpy as np\r\n",
        "import pandas as pd\r\n",
        "import tensorflow as tf\r\n",
        "\r\n",
        "from sklearn.metrics import accuracy_score, precision_score, recall_score\r\n",
        "from sklearn.model_selection import train_test_split\r\n",
        "from tensorflow.keras import layers, losses\r\n",
        "from tensorflow.python.keras.datasets import mnist\r\n",
        "from tensorflow.keras.models import Model\r\n",
        "\r\n",
        "## Set up the seed for reproducibility.\r\n",
        "seed=42\r\n",
        "\r\n",
        "# tf.reset_default_graph()           # It seems like it's only working in the old version.\r\n",
        "# tf.set_random_seed(seed)       # It seems like it's only working in the old version.\r\n",
        "\r\n",
        "tf.compat.v1.reset_default_graph()\r\n",
        "tf.compat.v1.set_random_seed(seed)\r\n",
        "np.random.seed(seed)"
      ],
      "execution_count": 3,
      "outputs": []
    },
    {
      "cell_type": "code",
      "metadata": {
        "colab": {
          "base_uri": "https://localhost:8080/"
        },
        "id": "0rCTZ94m6p8H",
        "outputId": "0321720c-f03d-452a-f47e-b5259b15aa87"
      },
      "source": [
        "## Road the dataset and preprocess\r\n",
        "(X_train, _), (X_test, _) = mnist.load_data()\r\n",
        "\r\n",
        "X_train = X_train.astype('float32') / 255.\r\n",
        "X_test = X_test.astype('float32') / 255.\r\n",
        "\r\n",
        "print (X_train.shape)\r\n",
        "print (X_test.shape)"
      ],
      "execution_count": 4,
      "outputs": [
        {
          "output_type": "stream",
          "text": [
            "Downloading data from https://storage.googleapis.com/tensorflow/tf-keras-datasets/mnist.npz\n",
            "11493376/11490434 [==============================] - 0s 0us/step\n",
            "(60000, 28, 28)\n",
            "(10000, 28, 28)\n"
          ],
          "name": "stdout"
        }
      ]
    },
    {
      "cell_type": "code",
      "metadata": {
        "colab": {
          "base_uri": "https://localhost:8080/"
        },
        "id": "r_rDTj_Y-E2u",
        "outputId": "ee1eedde-d04c-4285-e5f0-3d4e7ac38c17"
      },
      "source": [
        "## Define model architecture\r\n",
        "latent_dim = 64 \r\n",
        "\r\n",
        "class Autoencoder(Model):\r\n",
        "    def __init__(self, encoding_dim):\r\n",
        "        super(Autoencoder, self).__init__()\r\n",
        "        self.latent_dim = latent_dim   \r\n",
        "        self.encoder = tf.keras.Sequential([\r\n",
        "        layers.Flatten(),\r\n",
        "        layers.Dense(latent_dim, activation='relu'),\r\n",
        "        ])\r\n",
        "        self.decoder = tf.keras.Sequential([\r\n",
        "        layers.Dense(784, activation='sigmoid'),\r\n",
        "        layers.Reshape((28, 28))\r\n",
        "        ])\r\n",
        "\r\n",
        "    def call(self, x):\r\n",
        "        encoded = self.encoder(x)\r\n",
        "        decoded = self.decoder(encoded)\r\n",
        "        return decoded\r\n",
        "\r\n",
        "autoencoder = Autoencoder(latent_dim)\r\n",
        "\r\n",
        "## Compile model\r\n",
        "autoencoder.compile(optimizer='adam', loss=losses.MeanSquaredError())\r\n",
        "\r\n",
        "## Fit model on training data\r\n",
        "history = autoencoder.fit(X_train, X_train, epochs=10, shuffle=True, \r\n",
        "                          validation_data=(X_test, X_test))"
      ],
      "execution_count": 12,
      "outputs": [
        {
          "output_type": "stream",
          "text": [
            "Epoch 1/10\n",
            "1875/1875 [==============================] - 4s 2ms/step - loss: 0.0434 - val_loss: 0.0091\n",
            "Epoch 2/10\n",
            "1875/1875 [==============================] - 4s 2ms/step - loss: 0.0079 - val_loss: 0.0053\n",
            "Epoch 3/10\n",
            "1875/1875 [==============================] - 4s 2ms/step - loss: 0.0052 - val_loss: 0.0046\n",
            "Epoch 4/10\n",
            "1875/1875 [==============================] - 4s 2ms/step - loss: 0.0046 - val_loss: 0.0043\n",
            "Epoch 5/10\n",
            "1875/1875 [==============================] - 4s 2ms/step - loss: 0.0044 - val_loss: 0.0042\n",
            "Epoch 6/10\n",
            "1875/1875 [==============================] - 4s 2ms/step - loss: 0.0043 - val_loss: 0.0041\n",
            "Epoch 7/10\n",
            "1875/1875 [==============================] - 4s 2ms/step - loss: 0.0042 - val_loss: 0.0041\n",
            "Epoch 8/10\n",
            "1875/1875 [==============================] - 4s 2ms/step - loss: 0.0041 - val_loss: 0.0040\n",
            "Epoch 9/10\n",
            "1875/1875 [==============================] - 4s 2ms/step - loss: 0.0041 - val_loss: 0.0040\n",
            "Epoch 10/10\n",
            "1875/1875 [==============================] - 4s 2ms/step - loss: 0.0040 - val_loss: 0.0040\n"
          ],
          "name": "stdout"
        }
      ]
    },
    {
      "cell_type": "code",
      "metadata": {
        "colab": {
          "base_uri": "https://localhost:8080/",
          "height": 265
        },
        "id": "Oe4vcP-e_5zx",
        "outputId": "895ef5e8-8faa-471b-f686-790a1d849091"
      },
      "source": [
        "## Check the results\r\n",
        "# Plots the loss\r\n",
        "plt.figure()\r\n",
        "plt.plot(history.history[\"loss\"], label=\"Training Loss\")\r\n",
        "plt.plot(history.history[\"val_loss\"], label=\"Validation Loss\")\r\n",
        "plt.legend()\r\n",
        "plt.show()"
      ],
      "execution_count": 13,
      "outputs": [
        {
          "output_type": "display_data",
          "data": {
            "image/png": "[encoded data removed]",
            "text/plain": [
              "<Figure size 432x288 with 1 Axes>"
            ]
          },
          "metadata": {
            "tags": [],
            "needs_background": "light"
          }
        }
      ]
    },
    {
      "cell_type": "code",
      "metadata": {
        "id": "uJZKjS2-_IzB"
      },
      "source": [
        "## Evaluate model on test data\r\n",
        "encoded_imgs = autoencoder.encoder(X_test).numpy()\r\n",
        "decoded_imgs = autoencoder.decoder(encoded_imgs).numpy()"
      ],
      "execution_count": 8,
      "outputs": []
    },
    {
      "cell_type": "code",
      "metadata": {
        "colab": {
          "base_uri": "https://localhost:8080/",
          "height": 181
        },
        "id": "7ljgaLVo_U9C",
        "outputId": "66b455fb-a109-4e5f-dc48-cc8802af5e93"
      },
      "source": [
        "n = 10\r\n",
        "plt.figure(figsize=(20, 4))\r\n",
        "for i in range(n):\r\n",
        "    # display original\r\n",
        "    ax = plt.subplot(2, n, i + 1)\r\n",
        "    plt.imshow(X_test[i])\r\n",
        "    plt.title(\"original\")\r\n",
        "    plt.gray()\r\n",
        "    ax.get_xaxis().set_visible(False)\r\n",
        "    ax.get_yaxis().set_visible(False)\r\n",
        "\r\n",
        "    # display reconstruction\r\n",
        "    ax = plt.subplot(2, n, i + 1 + n)\r\n",
        "    plt.imshow(decoded_imgs[i])\r\n",
        "    plt.title(\"reconstructed\")\r\n",
        "    plt.gray()\r\n",
        "    ax.get_xaxis().set_visible(False)\r\n",
        "    ax.get_yaxis().set_visible(False)\r\n",
        "plt.show()"
      ],
      "execution_count": 10,
      "outputs": [
        {
          "output_type": "display_data",
          "data": {
            "image/png": "[encoded data removed]",
            "text/plain": [
              "<Figure size 1440x288 with 20 Axes>"
            ]
          },
          "metadata": {
            "tags": [],
            "needs_background": "light"
          }
        }
      ]
    }
  ]
}